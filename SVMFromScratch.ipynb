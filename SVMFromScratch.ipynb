{
 "cells": [
  {
   "cell_type": "code",
   "execution_count": 1,
   "metadata": {},
   "outputs": [],
   "source": [
    "import numpy as np\n",
    "import pandas as pd\n",
    "\n",
    "train=pd.read_csv(\"/Users/saksham/Desktop/train.csv\")\n",
    "x_test=pd.read_csv(\"/Users/saksham/Desktop/test.csv\")\n",
    "Y_train=np.array(train[\"label\"])\n",
    "X_train=np.array(train.drop([\"label\"],axis=1))"
   ]
  },
  {
   "cell_type": "code",
   "execution_count": 2,
   "metadata": {},
   "outputs": [],
   "source": [
    "def unpickle(file):\n",
    "    import pickle\n",
    "    with open(file, 'rb') as fo:\n",
    "        dict = pickle.load(fo, encoding='bytes')\n",
    "    return dict\n",
    "a=unpickle(\"/Users/saksham/Desktop/cifar-10-batches-py/test_batch\")\n",
    "y=np.array(a)\n",
    "y_test=np.array(a[b'labels']).astype(int)"
   ]
  },
  {
   "cell_type": "code",
   "execution_count": 3,
   "metadata": {},
   "outputs": [],
   "source": [
    "sigma =0.01\n",
    "W = sigma * np.random.randn(3072,10)"
   ]
  },
  {
   "cell_type": "code",
   "execution_count": 4,
   "metadata": {},
   "outputs": [],
   "source": [
    "class Svm ():\n",
    "    def calLoss (self, x, y, reg):\n",
    "\n",
    "        loss = 0.0\n",
    "        dW = np.zeros_like(W)\n",
    "\n",
    "        s = x.dot(W)\n",
    "        s_yi = s[np.arange(x.shape[0]),y]\n",
    "        delta = s- s_yi[:,np.newaxis]+1\n",
    "        loss_i = np.maximum(0,delta)\n",
    "        loss_i[np.arange(x.shape[0]),y]=0\n",
    "        loss = np.sum(loss_i)/x.shape[0]\n",
    "        loss += reg*np.sum(W*W)\n",
    "        ds = np.zeros_like(delta)\n",
    "        ds[delta > 0] = 1\n",
    "        ds[np.arange(x.shape[0]),y] = 0\n",
    "        ds[np.arange(x.shape[0]),y] = -np.sum(ds, axis=1)\n",
    "\n",
    "        dW = (1/x.shape[0]) * (x.T).dot(ds)\n",
    "        dW = dW + (2* reg* W)\n",
    "        return loss, dW\n",
    "\n",
    "    def train (self, x, y,W, lr=1e-3, reg=1e-5, iter=100, batchSize=1000, verbose=False):\n",
    "        lossHistory = []\n",
    "        for i in range(iter):\n",
    "            xBatch = None\n",
    "            yBatch = None\n",
    "\n",
    "            num_train = np.random.choice(x.shape[0], batchSize)\n",
    "            xBatch = x[num_train]\n",
    "            yBatch = y[num_train]\n",
    "            loss, dW = self.calLoss(xBatch,yBatch,reg)\n",
    "            W= W - lr * dW\n",
    "            lossHistory.append(loss)\n",
    "\n",
    "            if verbose and i % 100 == 0 and len(lossHistory) != 0:\n",
    "                print ('Loop {0} loss {1}'.format(i, lossHistory[i]))\n",
    "\n",
    "        return lossHistory\n",
    "\n",
    "    def predict (self, x,):\n",
    "\n",
    "        yPred = np.zeros(x.shape[0])\n",
    "\n",
    "        s = x.dot(W)\n",
    "        yPred = np.argmax(s, axis=1)\n",
    "        return yPred\n",
    "    def calAccuracy (self, x, y):\n",
    "        acc = 0\n",
    "\n",
    "        yPred = self.predict(x)\n",
    "        acc = np.mean(y == yPred)*100\n",
    "\n",
    "        return acc\n",
    "\n",
    "\n",
    "\n"
   ]
  },
  {
   "cell_type": "code",
   "execution_count": 5,
   "metadata": {},
   "outputs": [
    {
     "name": "stdout",
     "output_type": "stream",
     "text": [
      "Start training Svm classifier\n",
      "Loop 0 loss 378.79550076386806\n",
      "Loop 100 loss 363.65322033797156\n",
      "Loop 200 loss 367.9325915737177\n",
      "Loop 300 loss 387.9440037998378\n",
      "Loop 400 loss 373.7831908928379\n",
      "Training acc:   9.736%\n"
     ]
    }
   ],
   "source": [
    "classifier=Svm()\n",
    "print ('Start training Svm classifier')\n",
    "\n",
    "classifier.train(X_train, Y_train,W, iter=500,verbose=True)\n",
    "print ('Training acc:   {0}%'.format(classifier.calAccuracy(X_train, Y_train)))"
   ]
  },
  {
   "cell_type": "code",
   "execution_count": 8,
   "metadata": {},
   "outputs": [],
   "source": [
    "x_test = np.reshape(x_test, (x_test.shape[0], -1))\n",
    "x_test = np.hstack([x_test, np.ones((x_test.shape[0], 1))])\n",
    "x_test=x_test[:,0:3072]\n"
   ]
  },
  {
   "cell_type": "code",
   "execution_count": 9,
   "metadata": {},
   "outputs": [
    {
     "name": "stdout",
     "output_type": "stream",
     "text": [
      "Testing acc:    10.22%\n"
     ]
    }
   ],
   "source": [
    "print ('Testing acc:    {0}%'.format(classifier.calAccuracy(x_test, y_test)))"
   ]
  },
  {
   "cell_type": "code",
   "execution_count": null,
   "metadata": {},
   "outputs": [],
   "source": [
    "\n"
   ]
  },
  {
   "cell_type": "code",
   "execution_count": null,
   "metadata": {},
   "outputs": [],
   "source": []
  }
 ],
 "metadata": {
  "interpreter": {
   "hash": "fc1bfebef4bde096bcca5b7212ac51dad80d152ee96bf3e05c42062f71dce39e"
  },
  "kernelspec": {
   "display_name": "Python 3.9.5 ('base')",
   "language": "python",
   "name": "python3"
  },
  "language_info": {
   "codemirror_mode": {
    "name": "ipython",
    "version": 3
   },
   "file_extension": ".py",
   "mimetype": "text/x-python",
   "name": "python",
   "nbconvert_exporter": "python",
   "pygments_lexer": "ipython3",
   "version": "3.9.5"
  },
  "orig_nbformat": 4
 },
 "nbformat": 4,
 "nbformat_minor": 2
}
